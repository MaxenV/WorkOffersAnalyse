{
 "cells": [
  {
   "cell_type": "markdown",
   "id": "394be7da",
   "metadata": {},
   "source": [
    "# Imports"
   ]
  },
  {
   "cell_type": "code",
   "execution_count": null,
   "id": "42210d51",
   "metadata": {},
   "outputs": [],
   "source": [
    "import datetime\n",
    "import os\n",
    "import re\n",
    "import pandas as pd\n",
    "\n",
    "from dotenv import load_dotenv\n",
    "from matplotlib import pyplot as plt\n",
    "from notion_client import Client\n",
    "\n",
    "from IPython.display import display, HTML"
   ]
  },
  {
   "cell_type": "markdown",
   "id": "88c43819",
   "metadata": {},
   "source": [
    "# Objects and functions"
   ]
  },
  {
   "cell_type": "code",
   "execution_count": null,
   "id": "44931e7d",
   "metadata": {},
   "outputs": [],
   "source": [
    "def get_domain(url):\n",
    "    return re.search(r\"https?://(?:www\\.)?([^/]+)\", url).group(1)"
   ]
  },
  {
   "cell_type": "code",
   "execution_count": null,
   "id": "6aae4761",
   "metadata": {},
   "outputs": [],
   "source": [
    "def set_old_status(df_offers):\n",
    "    df_offers[\"Status\"] = df_offers.apply(\n",
    "        lambda row: \"old\" if row[\"Status\"] == \"active\" and pd.to_datetime(row[\"Created Time\"]).date() < THIRTY_DAYS_AGO else row[\"Status\"],\n",
    "        axis=1\n",
    "    )\n",
    "    return df_offers"
   ]
  },
  {
   "cell_type": "code",
   "execution_count": null,
   "id": "3916ca60",
   "metadata": {},
   "outputs": [],
   "source": [
    "def day_list_generator(start_date, end_date):\n",
    "    days = []\n",
    "    current_date = start_date\n",
    "    while current_date <= end_date:\n",
    "        days.append(current_date)\n",
    "        current_date += datetime.timedelta(days=1)\n",
    "    return days"
   ]
  },
  {
   "cell_type": "markdown",
   "id": "0249055e",
   "metadata": {},
   "source": [
    "# Prepare"
   ]
  },
  {
   "cell_type": "markdown",
   "id": "f893e7d4",
   "metadata": {},
   "source": [
    "## Load environment variables"
   ]
  },
  {
   "cell_type": "code",
   "execution_count": null,
   "id": "591d2022",
   "metadata": {},
   "outputs": [],
   "source": [
    "load_dotenv()\n",
    "\n",
    "THIRTY_DAYS_AGO = datetime.datetime.utcnow().date() - datetime.timedelta(days=30)\n",
    "NOTION_TOKEN = os.getenv(\"NOTION_ID\")\n",
    "NOTION_DB_ID = os.getenv(\"NOTION_DB_ID\")\n",
    "OLD_DAYS_COUNT = datetime.datetime.utcnow() - datetime.timedelta(\n",
    "    days=int(os.getenv(\"OLD_DAYS_COUNT\"))\n",
    ")"
   ]
  },
  {
   "cell_type": "markdown",
   "id": "694fa21a",
   "metadata": {},
   "source": [
    "## Load data from notion"
   ]
  },
  {
   "cell_type": "code",
   "execution_count": null,
   "id": "7b7a6b3a",
   "metadata": {},
   "outputs": [],
   "source": [
    "client = Client(auth=NOTION_TOKEN)\n",
    "notion_database = client.databases.query(database_id=NOTION_DB_ID)"
   ]
  },
  {
   "cell_type": "code",
   "execution_count": null,
   "id": "3460b6eb",
   "metadata": {},
   "outputs": [],
   "source": [
    "notion_database"
   ]
  },
  {
   "cell_type": "markdown",
   "id": "895f7630",
   "metadata": {},
   "source": [
    "## Dataframe preparation"
   ]
  },
  {
   "cell_type": "code",
   "execution_count": null,
   "id": "530ae079",
   "metadata": {},
   "outputs": [],
   "source": [
    "try:\n",
    "    data = [\n",
    "        {\n",
    "            \"Name\": offer[\"properties\"][\"Offer name\"][\"title\"][0][\"plain_text\"],\n",
    "            \"Created Time\": offer[\"created_time\"],\n",
    "            \"Last Edited Time\": offer[\"last_edited_time\"],\n",
    "            \"Status\": offer[\"properties\"][\"Status\"][\"select\"][\"name\"],\n",
    "            \"Company\": offer[\"properties\"][\"Company\"][\"select\"][\"name\"],\n",
    "            \"Link to Offer\": offer[\"properties\"][\"Link to offer\"][\"url\"],\n",
    "            \"Link to Note\": offer[\"url\"],\n",
    "        }\n",
    "        for offer in notion_database[\"results\"]\n",
    "    ]\n",
    "except TypeError as e:\n",
    "    if str(e) == \"'NoneType' object is not subscriptable\":\n",
    "        print(\"Probably some offer don't have assigned status\")\n",
    "    else:\n",
    "        print(\"Unknown Type Error\", e)\n",
    "except Exception as e:\n",
    "    print(e)"
   ]
  },
  {
   "cell_type": "code",
   "execution_count": null,
   "id": "1fde124a",
   "metadata": {},
   "outputs": [],
   "source": [
    "df_offers = pd.DataFrame(data)"
   ]
  },
  {
   "cell_type": "code",
   "execution_count": null,
   "id": "b299abb5",
   "metadata": {},
   "outputs": [],
   "source": [
    "df_offers.head()"
   ]
  },
  {
   "cell_type": "code",
   "execution_count": null,
   "id": "b4c076ed",
   "metadata": {},
   "outputs": [],
   "source": [
    "df_offers[\"Last Edited Time\"] = pd.to_datetime(\n",
    "    df_offers[\"Last Edited Time\"]\n",
    ").dt.strftime(\"%Y-%m-%d %H:%M:%S\")\n",
    "df_offers[\"Created Time\"] = pd.to_datetime(df_offers[\"Created Time\"]).dt.strftime(\n",
    "    \"%Y-%m-%d %H:%M:%S\"\n",
    ")"
   ]
  },
  {
   "cell_type": "code",
   "execution_count": null,
   "id": "84e9bb2a",
   "metadata": {},
   "outputs": [],
   "source": [
    "df_offers[\"Status\"] = df_offers[\"Status\"].astype(\"string\")\n",
    "df_offers[\"Company\"] = df_offers[\"Company\"].astype(\"string\")"
   ]
  },
  {
   "cell_type": "code",
   "execution_count": null,
   "id": "45ab8e6b",
   "metadata": {},
   "outputs": [],
   "source": [
    "df_offers[\"Name\"] = df_offers.apply(\n",
    "    lambda offer: (\n",
    "        f'<a href=\"{offer[\"Link to Note\"]}\" target=\"_blank\">{offer[\"Name\"]}</a>'\n",
    "        if pd.notnull(offer[\"Link to Note\"])\n",
    "        else offer[\"Name\"]\n",
    "    ),\n",
    "    axis=1,\n",
    ")\n",
    "\n",
    "df_offers[\"Link to Offer\"] = df_offers.apply(\n",
    "    lambda offer: (\n",
    "        f'<a href=\"{offer[\"Link to Offer\"]}\" target=\"_blank\">{get_domain( offer[\"Link to Offer\"])}</a>'\n",
    "        if pd.notnull(offer[\"Link to Offer\"]) and offer[\"Link to Offer\"] != \"<NA>\"\n",
    "        else \"No url\"\n",
    "    ),\n",
    "    axis=1,\n",
    ")\n",
    "\n",
    "df_offers = df_offers.drop(\"Link to Note\", axis=1)"
   ]
  },
  {
   "cell_type": "code",
   "execution_count": null,
   "id": "7a9f2277",
   "metadata": {},
   "outputs": [],
   "source": [
    "df_offers = set_old_status(df_offers)"
   ]
  },
  {
   "cell_type": "markdown",
   "id": "ad933d0d",
   "metadata": {},
   "source": [
    "# Analyze"
   ]
  },
  {
   "cell_type": "markdown",
   "id": "0a385513",
   "metadata": {},
   "source": [
    "## Show all offers"
   ]
  },
  {
   "cell_type": "code",
   "execution_count": null,
   "id": "fc12d3ab",
   "metadata": {},
   "outputs": [],
   "source": [
    "display(\n",
    "    HTML(\n",
    "        df_offers\n",
    "        .sort_values(by=\"Last Edited Time\", ascending=False)\n",
    "        .reset_index(drop=True)\n",
    "        .to_html(escape=False)\n",
    "    )\n",
    ")"
   ]
  },
  {
   "cell_type": "markdown",
   "id": "7f408943",
   "metadata": {},
   "source": [
    "## Status stats"
   ]
  },
  {
   "cell_type": "code",
   "execution_count": null,
   "id": "3ddfe3ed",
   "metadata": {},
   "outputs": [],
   "source": [
    "count_stats = df_offers.groupby(by=\"Status\").count()\n",
    "count_stats = count_stats.rename(columns={\"Name\": \"Offer Count\"})\n",
    "pd.DataFrame(count_stats[\"Offer Count\"])"
   ]
  },
  {
   "cell_type": "code",
   "execution_count": null,
   "id": "c2c7f3db",
   "metadata": {},
   "outputs": [],
   "source": [
    "count_stats[\"Offer Count\"].plot(\n",
    "    kind=\"pie\", figsize=(5, 5), title=\"Status Count\", autopct=\"%.0f%%\"\n",
    ")\n",
    "plt.ylabel(\"\")\n",
    "plt.show()"
   ]
  },
  {
   "cell_type": "code",
   "execution_count": null,
   "id": "879625dd",
   "metadata": {},
   "outputs": [],
   "source": [
    "date_counts = df_offers[\"Created Time\"].apply(lambda x: pd.to_datetime(x).date()).value_counts()\n",
    "day_list = day_list_generator(min(date_counts.keys()), max(date_counts.keys()))"
   ]
  },
  {
   "cell_type": "code",
   "execution_count": null,
   "id": "23bf6424",
   "metadata": {},
   "outputs": [],
   "source": [
    "plt.figure(figsize=(15, 6))\n",
    "bars = plt.bar(date_counts.keys(), date_counts.values)\n",
    "plt.xlabel(\"Date\")\n",
    "plt.ylabel(\"Number of Offers\")\n",
    "plt.title(\"Number of Offers Created per Day\")\n",
    "plt.xticks(day_list[::-2], rotation=45, ha='right')\n",
    "plt.axvline(x=THIRTY_DAYS_AGO, color='red', linestyle='--', linewidth=2)\n",
    "for bar in bars:\n",
    "    yval = bar.get_height()\n",
    "    plt.text(bar.get_x() + bar.get_width()/2, yval, int(yval), va='bottom', ha='center')\n",
    "\n",
    "plt.tight_layout()\n",
    "plt.show()"
   ]
  }
 ],
 "metadata": {
  "kernelspec": {
   "display_name": "venv",
   "language": "python",
   "name": "python3"
  },
  "language_info": {
   "codemirror_mode": {
    "name": "ipython",
    "version": 3
   },
   "file_extension": ".py",
   "mimetype": "text/x-python",
   "name": "python",
   "nbconvert_exporter": "python",
   "pygments_lexer": "ipython3",
   "version": "3.12.8"
  }
 },
 "nbformat": 4,
 "nbformat_minor": 5
}
